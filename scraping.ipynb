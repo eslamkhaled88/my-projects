{
 "cells": [
  {
   "cell_type": "code",
   "execution_count": 1,
   "metadata": {},
   "outputs": [],
   "source": [
    "from bs4 import BeautifulSoup\n",
    "import csv\n",
    "import requests\n",
    "import sqlite3"
   ]
  },
  {
   "cell_type": "code",
   "execution_count": 2,
   "metadata": {},
   "outputs": [],
   "source": [
    "connection = sqlite3.connect(\"books.db\")"
   ]
  },
  {
   "cell_type": "code",
   "execution_count": 3,
   "metadata": {},
   "outputs": [],
   "source": [
    "def initializing_page(url):\n",
    "    req = requests.get(url).text\n",
    "    soup = BeautifulSoup(req,'html.parser')\n",
    "    body = soup.body\n",
    "    return body"
   ]
  },
  {
   "cell_type": "code",
   "execution_count": 4,
   "metadata": {},
   "outputs": [],
   "source": [
    "def Grap_categories(url):\n",
    "    body = initializing_page(url)\n",
    "    ul = body.find('ul',attrs = {'class': 'nav nav-list'})\n",
    "    li = ul.find('li').find('ul').find_all('li')\n",
    "    categories = {i.text.strip():('https://books.toscrape.com/'+ i.find('a').attrs['href']) for i in li }\n",
    "    return categories"
   ]
  },
  {
   "cell_type": "code",
   "execution_count": 5,
   "metadata": {},
   "outputs": [],
   "source": [
    "def grap_page_books(url):\n",
    "    numbers = {'One':1,'Two':2,'Three':3, 'Four':4,'Five':5}\n",
    "    body = initializing_page(url)\n",
    "    all_books = body.find_all('li',attrs = {'class': 'col-xs-6 col-sm-4 col-md-3 col-lg-3'})\n",
    "    books_names =[i.find('h3').find('a').attrs['title'].replace('â\\x80\\x99','\\'') for i in all_books]\n",
    "    rates = [numbers[i.find('p').attrs['class'][-1]] for i in all_books]\n",
    "    price = [float(i.find('p',attrs={'class': 'price_color'}).text.split('£')[-1]) for i in all_books]\n",
    "    return list(zip(books_names,price,rates))"
   ]
  },
  {
   "cell_type": "code",
   "execution_count": 6,
   "metadata": {},
   "outputs": [],
   "source": [
    "def no_books_inpage(url):\n",
    "    body = initializing_page(url)\n",
    "    result = int(body.find('form',{'method': 'get','class':'form-horizontal'}).find('strong').text)\n",
    "    return result"
   ]
  },
  {
   "cell_type": "code",
   "execution_count": 7,
   "metadata": {},
   "outputs": [],
   "source": [
    "def initiate_categories(categories):\n",
    "    for i in categories:\n",
    "        cursor = connection.execute(f\"INSERT INTO categories (category_name) VALUES ('{i}')\")\n",
    "    connection.commit()"
   ]
  },
  {
   "cell_type": "code",
   "execution_count": 8,
   "metadata": {},
   "outputs": [],
   "source": [
    "def main():\n",
    "    urls = list(Grap_categories('https://books.toscrape.com/').values())\n",
    "    categories = list(Grap_categories('https://books.toscrape.com/').keys())\n",
    "    initiate_categories(categories)\n",
    "    insert_query = \"INSERT INTO books (book_name,book_price,book_rate,category_id) VALUES (?,?,?,?)\"\n",
    "    for i in range(len(urls)):\n",
    "        li1 = grap_page_books(urls[i])\n",
    "        for y in range(len(li1)):\n",
    "            li2 = list(li1[y])\n",
    "            book_name = \"\\\"{}\\\"\".format(li2[0].replace('\\\"','\\''))\n",
    "            category_id = connection.execute(f\"select category_id from categories where category_name = '{categories[i]}'\").fetchall()[0][0]\n",
    "            cursor = connection.execute(insert_query, [book_name, li2[1],li2[2],category_id])\n",
    "            connection.commit()\n",
    "        if no_books_inpage(urls[i]) > 20 :\n",
    "            result = (no_books_inpage(urls[i]) // 20) + 2 if no_books_inpage(urls[i]) % 20 != 0 else (no_books_inpage(urls[i]) // 20) + 1\n",
    "            for j in range(2,result):\n",
    "                li3 = grap_page_books(urls[i].replace('index',f'page-{j}'))\n",
    "                for z in range(len(li3)):\n",
    "                        li4 = list(li3[z])\n",
    "                        cursor = connection.execute(insert_query, [book_name, li4[1],li4[2],category_id])\n",
    "                        connection.commit()\n",
    "    connection.close()\n",
    "    print('mission succed!')"
   ]
  },
  {
   "cell_type": "code",
   "execution_count": 9,
   "metadata": {},
   "outputs": [
    {
     "name": "stdout",
     "output_type": "stream",
     "text": [
      "mission succed!\n"
     ]
    }
   ],
   "source": [
    "main()"
   ]
  },
  {
   "cell_type": "code",
   "execution_count": 1,
   "metadata": {},
   "outputs": [
    {
     "ename": "SyntaxError",
     "evalue": "invalid syntax (<ipython-input-1-3dcce96c599c>, line 1)",
     "output_type": "error",
     "traceback": [
      "\u001b[1;36m  File \u001b[1;32m\"<ipython-input-1-3dcce96c599c>\"\u001b[1;36m, line \u001b[1;32m1\u001b[0m\n\u001b[1;33m    'It's Only the Himalayas'\u001b[0m\n\u001b[1;37m        ^\u001b[0m\n\u001b[1;31mSyntaxError\u001b[0m\u001b[1;31m:\u001b[0m invalid syntax\n"
     ]
    }
   ],
   "source": []
  },
  {
   "cell_type": "code",
   "execution_count": null,
   "metadata": {},
   "outputs": [],
   "source": [
    "\"It's Only the Himalayas\""
   ]
  }
 ],
 "metadata": {
  "kernelspec": {
   "display_name": "Python 3 (ipykernel)",
   "language": "python",
   "name": "python3"
  },
  "language_info": {
   "codemirror_mode": {
    "name": "ipython",
    "version": 3
   },
   "file_extension": ".py",
   "mimetype": "text/x-python",
   "name": "python",
   "nbconvert_exporter": "python",
   "pygments_lexer": "ipython3",
   "version": "3.10.4"
  }
 },
 "nbformat": 4,
 "nbformat_minor": 4
}
